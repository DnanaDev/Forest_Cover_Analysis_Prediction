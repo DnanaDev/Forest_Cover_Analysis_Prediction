{
 "cells": [
  {
   "cell_type": "markdown",
   "metadata": {},
   "source": [
    "# Forest Cover Type Prediction\n",
    "[Notebook.](Forest_cover_Type_prediction.ipynb)\n",
    "<p>Use cartographic variables to classify forest categories. Balanced Mulit-Class Classification problem.\n",
    "    Exploratory Data Analysis performed to identify promising features, visualising data interactions. Feature selection to reduce the number of features from 54 to 12. Performed predictive modelling using tree based methods Random Forest and XGBoost. Kaggle accuracy of 76.4%.</p>\n",
    "   ![](Graph/Predicted_classes.jpg)"
   ]
  }
 ],
 "metadata": {
  "kernelspec": {
   "display_name": "Python 3",
   "language": "python",
   "name": "python3"
  },
  "language_info": {
   "codemirror_mode": {
    "name": "ipython",
    "version": 3
   },
   "file_extension": ".py",
   "mimetype": "text/x-python",
   "name": "python",
   "nbconvert_exporter": "python",
   "pygments_lexer": "ipython3",
   "version": "3.6.4"
  }
 },
 "nbformat": 4,
 "nbformat_minor": 2
}
